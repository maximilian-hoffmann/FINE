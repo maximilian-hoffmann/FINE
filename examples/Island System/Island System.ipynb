{
 "cells": [
  {
   "cell_type": "markdown",
   "metadata": {},
   "source": [
    "# 1. Import required packages and required input data\n",
    "\n",
    "The FINE framework is imported which provides the required classes and functions for modeling the energy system."
   ]
  },
  {
   "cell_type": "code",
   "execution_count": 1,
   "metadata": {},
   "outputs": [
    {
     "data": {
      "text/plain": [
       "6199520.972202418"
      ]
     },
     "execution_count": 1,
     "metadata": {},
     "output_type": "execute_result"
    }
   ],
   "source": [
    "import FINE as fn\n",
    "import pandas as pd\n",
    "data = pd.read_csv('timeSeries_TSA.csv', index_col = 0).reset_index(drop=True)\n",
    "\n",
    "%matplotlib inline  \n",
    "%load_ext autoreload\n",
    "%autoreload 2\n",
    "\n",
    "list(data)\n",
    "data['E-Load\\r\\nIsland [kW]'].sum()"
   ]
  },
  {
   "cell_type": "markdown",
   "metadata": {},
   "source": [
    "# 2. Create an energy system model instance \n",
    "\n",
    "The structure of the energy system model is given by the considered locations, commodities, the number of time steps as well as the hours per time step.\n",
    "\n",
    "The commodities are specified by a unit (i.e. 'GW_electric', 'GW_H2lowerHeatingValue', 'Mio. t CO2/h') which can be given as an energy or mass unit per hour. Furthermore, the cost unit and length unit are specified."
   ]
  },
  {
   "cell_type": "code",
   "execution_count": 2,
   "metadata": {},
   "outputs": [],
   "source": [
    "locations = {'Island'}\n",
    "commodityUnitDict = {'electricity': r'kW$_{el}$', 'hydrogen': r'kW$_{H_{2}}$'}\n",
    "commodities = {'electricity', 'hydrogen'}\n",
    "numberOfTimeSteps=8760\n",
    "hoursPerTimeStep=1"
   ]
  },
  {
   "cell_type": "code",
   "execution_count": 3,
   "metadata": {},
   "outputs": [],
   "source": [
    "esM = fn.EnergySystemModel(locations=locations, commodities=commodities, numberOfTimeSteps=8760,\n",
    "                           commodityUnitsDict=commodityUnitDict,\n",
    "                           hoursPerTimeStep=1, costUnit='1 Euro', lengthUnit='km', verboseLogLevel=0)"
   ]
  },
  {
   "cell_type": "markdown",
   "metadata": {},
   "source": [
    "# 3. Add Commodity Sources and Sinks"
   ]
  },
  {
   "cell_type": "markdown",
   "metadata": {},
   "source": [
    "### Wind onshore"
   ]
  },
  {
   "cell_type": "code",
   "execution_count": 4,
   "metadata": {},
   "outputs": [],
   "source": [
    "esM.add(fn.Source(esM=esM, name='Wind', commodity='electricity', hasCapacityVariable=True,\n",
    "                  operationRateMax=data['Wind\\r\\n[kW/kWp]'],\n",
    "                  investIfBuilt=1e5, investPerCapacity=1e3, opexPerCapacity=1e3*0.02, interestRate=0.08,\n",
    "                  economicLifetime=20))"
   ]
  },
  {
   "cell_type": "markdown",
   "metadata": {},
   "source": [
    "### PV"
   ]
  },
  {
   "cell_type": "code",
   "execution_count": 5,
   "metadata": {},
   "outputs": [],
   "source": [
    "esM.add(fn.Source(esM=esM, name='PV', commodity='electricity', hasCapacityVariable=True,\n",
    "                  operationRateMax=data['Photovoltaic\\r\\n[kW/kWp]'],\n",
    "                  investIfBuilt=1e4, investPerCapacity=800, opexPerCapacity=800*0.01, interestRate=0.08,\n",
    "                  economicLifetime=20))"
   ]
  },
  {
   "cell_type": "markdown",
   "metadata": {},
   "source": [
    "### Backup Plant"
   ]
  },
  {
   "cell_type": "code",
   "execution_count": 6,
   "metadata": {},
   "outputs": [],
   "source": [
    "esM.add(fn.Source(esM=esM, name='Backup Plant', commodity='electricity',\n",
    "                commodityLimitID=\"Electricity Import\",\n",
    "                yearlyLimit=-0.1*data['E-Load\\r\\nIsland [kW]'].sum(),\n",
    "                hasCapacityVariable=False, commodityCost=0.2, economicLifetime=25))"
   ]
  },
  {
   "cell_type": "markdown",
   "metadata": {},
   "source": [
    "### E-Demand"
   ]
  },
  {
   "cell_type": "code",
   "execution_count": 7,
   "metadata": {},
   "outputs": [],
   "source": [
    "esM.add(fn.Sink(esM=esM, name='Electricity Demand', commodity='electricity',\n",
    "                hasCapacityVariable=False, operationRateFix=data['E-Load\\r\\nIsland [kW]']))"
   ]
  },
  {
   "cell_type": "markdown",
   "metadata": {},
   "source": [
    "# 4. Add Conversion Components"
   ]
  },
  {
   "cell_type": "markdown",
   "metadata": {},
   "source": [
    "### Electrolyzers"
   ]
  },
  {
   "cell_type": "code",
   "execution_count": 8,
   "metadata": {},
   "outputs": [],
   "source": [
    "esM.add(fn.Conversion(esM=esM, name='Electroylzers', physicalUnit=r'kW$_{el}$',\n",
    "                      commodityConversionFactors={'electricity':-1, 'hydrogen':0.7},\n",
    "                      hasCapacityVariable=True, \n",
    "                      investIfBuilt=1e5, investPerCapacity=500, opexPerCapacity=500*0.03, interestRate=0.08,\n",
    "                      economicLifetime=15))"
   ]
  },
  {
   "cell_type": "markdown",
   "metadata": {},
   "source": [
    "### Fuel Cells"
   ]
  },
  {
   "cell_type": "code",
   "execution_count": 9,
   "metadata": {},
   "outputs": [],
   "source": [
    "esM.add(fn.Conversion(esM=esM, name='Fuel Cells', physicalUnit=r'kW$_{el}$',\n",
    "                      commodityConversionFactors={'electricity':1, 'hydrogen':-1/0.5},\n",
    "                      hasCapacityVariable=True, \n",
    "                      investIfBuilt=1e5, investPerCapacity=1100, opexPerCapacity=1100*0.03, interestRate=0.08,\n",
    "                      economicLifetime=15))"
   ]
  },
  {
   "cell_type": "markdown",
   "metadata": {},
   "source": [
    "# 5. Add Storage Components"
   ]
  },
  {
   "cell_type": "markdown",
   "metadata": {},
   "source": [
    "### Battery"
   ]
  },
  {
   "cell_type": "code",
   "execution_count": 10,
   "metadata": {},
   "outputs": [],
   "source": [
    "esM.add(fn.Storage(esM=esM, name='Battery', commodity='electricity',\n",
    "                   hasCapacityVariable=True, chargeEfficiency=0.96,\n",
    "                   dischargeEfficiency=0.96, selfDischarge=5e-4,\n",
    "                   chargeRate=1, dischargeRate=1, doPreciseTsaModeling=False,\n",
    "                   investPerCapacity=300, opexPerCapacity=300*0.01, interestRate=0.08,\n",
    "                   economicLifetime=15))"
   ]
  },
  {
   "cell_type": "markdown",
   "metadata": {},
   "source": [
    "### H2 Storage"
   ]
  },
  {
   "cell_type": "code",
   "execution_count": 11,
   "metadata": {},
   "outputs": [],
   "source": [
    "esM.add(fn.Storage(esM=esM, name='Hydrogen Vessel', commodity='hydrogen',\n",
    "                   hasCapacityVariable=True, chargeEfficiency=0.9,\n",
    "                   dischargeEfficiency=1, selfDischarge=0,\n",
    "                   chargeRate=1, dischargeRate=1, doPreciseTsaModeling=False,\n",
    "                   investPerCapacity=15, opexPerCapacity=0, interestRate=0.08,\n",
    "                   economicLifetime=25))"
   ]
  },
  {
   "cell_type": "markdown",
   "metadata": {},
   "source": [
    "# 6. Optimize energy system model"
   ]
  },
  {
   "cell_type": "code",
   "execution_count": 12,
   "metadata": {},
   "outputs": [
    {
     "name": "stdout",
     "output_type": "stream",
     "text": [
      "Declaring sets, variables and constraints for SourceSinkModel\n",
      "\tdeclaring sets... \n",
      "\tdeclaring variables... \n",
      "\tdeclaring constraints... \n",
      "\t\t(2.1684 sec)\n",
      "\n",
      "Declaring sets, variables and constraints for ConversionModel\n",
      "\tdeclaring sets... \n",
      "\tdeclaring variables... \n",
      "\tdeclaring constraints... \n",
      "\t\t(0.6396 sec)\n",
      "\n",
      "Declaring sets, variables and constraints for StorageModel\n",
      "\tdeclaring sets... \n",
      "\tdeclaring variables... \n",
      "\tdeclaring constraints... \n",
      "\t\t(2.8392 sec)\n",
      "\n",
      "Declaring shared potential constraint...\n",
      "\t\t(0.0000 sec)\n",
      "\n",
      "Declaring commodity balances...\n",
      "\t\t(1.3436 sec)\n",
      "\n",
      "Declaring objective function...\n",
      "\t\t(1.2324 sec)\n",
      "\n",
      "Academic license - for non-commercial use only\n",
      "Read LP format model from file C:\\Users\\m.hoffmann\\Documents\\Workspace\\FINE\\examples\\Island System\\tmpg81n9hjg.pyomo.lp\n",
      "Reading time = 0.59 seconds\n",
      "x105135: 148930 rows, 105135 columns, 380085 nonzeros\n",
      "Changed value of parameter QCPDual to 1\n",
      "   Prev: 0  Min: 0  Max: 1  Default: 0\n",
      "Changed value of parameter logfile to \n",
      "   Prev: gurobi.log  Default: \n",
      "Changed value of parameter Threads to 3\n",
      "   Prev: 0  Min: 0  Max: 1024  Default: 0\n",
      "Optimize a model with 148930 rows, 105135 columns and 380085 nonzeros\n",
      "Coefficient statistics:\n",
      "  Matrix range     [3e-04, 2e+00]\n",
      "  Objective range  [2e-01, 2e+02]\n",
      "  Bounds range     [0e+00, 0e+00]\n",
      "  RHS range        [1e+00, 6e+05]\n",
      "\n",
      "Concurrent LP optimizer: dual simplex and barrier\n",
      "Showing barrier log only...\n",
      "\n",
      "Presolve removed 31661 rows and 14141 columns\n",
      "Presolve time: 0.28s\n",
      "Presolved: 117269 rows, 90994 columns, 334284 nonzeros\n",
      "\n",
      "Ordering time: 0.00s\n",
      "\n",
      "Barrier statistics:\n",
      " Dense cols : 6\n",
      " AA' NZ     : 2.871e+05\n",
      " Factor NZ  : 2.126e+06 (roughly 100 MBytes of memory)\n",
      " Factor Ops : 4.037e+07 (less than 1 second per iteration)\n",
      " Threads    : 2\n",
      "\n",
      "                  Objective                Residual\n",
      "Iter       Primal          Dual         Primal    Dual     Compl     Time\n",
      "   0   5.62893481e+07  0.00000000e+00  2.19e+08 0.00e+00  2.83e+04     0s\n",
      "   1   4.17455485e+07  6.66730226e+05  7.73e+07 5.87e-01  1.43e+04     1s\n",
      "   2   3.86055553e+07  1.16901799e+06  1.34e+07 1.06e-01  2.78e+03     1s\n",
      "   3   2.83317906e+07  4.10272083e+05  2.55e+06 1.42e-02  4.85e+02     1s\n",
      "   4   1.91570927e+07  3.15336401e+05  1.36e+06 5.21e-03  2.24e+02     1s\n",
      "   5   1.31073612e+07  3.33895570e+05  8.00e+05 2.16e-03  1.17e+02     1s\n",
      "   6   6.65522623e+06  4.07704242e+05  3.14e+05 8.14e-04  4.98e+01     1s\n",
      "   7   3.22554313e+06  5.10842078e+05  1.14e+05 2.63e-04  1.91e+01     1s\n",
      "   8   1.90404145e+06  5.94303674e+05  4.73e+04 1.41e-04  9.16e+00     1s\n",
      "   9   1.54639019e+06  6.68682372e+05  3.03e+04 9.65e-05  6.03e+00     2s\n",
      "  10   1.40832172e+06  7.24861426e+05  2.33e+04 6.77e-05  4.59e+00     2s\n",
      "  11   1.26471324e+06  8.20833485e+05  1.58e+04 2.86e-05  2.88e+00     2s\n",
      "  12   1.12367611e+06  8.84425946e+05  7.11e+03 1.38e-05  1.54e+00     2s\n",
      "  13   1.07391650e+06  9.51815497e+05  3.42e+03 4.94e-06  7.64e-01     2s\n",
      "  14   1.05309120e+06  9.70618194e+05  2.11e+03 3.19e-06  5.16e-01     2s\n",
      "  15   1.04071259e+06  9.87456293e+05  1.28e+03 2.02e-06  3.33e-01     2s\n",
      "  16   1.03214249e+06  1.00488252e+06  6.60e+02 9.46e-07  1.70e-01     3s\n",
      "  17   1.02809911e+06  1.01375873e+06  3.69e+02 4.09e-07  8.89e-02     3s\n",
      "  18   1.02589618e+06  1.01782648e+06  2.14e+02 1.84e-07  4.99e-02     3s\n",
      "  19   1.02493769e+06  1.02023799e+06  1.46e+02 7.22e-08  2.89e-02     3s\n",
      "  20   1.02416672e+06  1.02106649e+06  9.14e+01 4.02e-08  1.90e-02     3s\n",
      "  21   1.02365299e+06  1.02190372e+06  5.57e+01 1.24e-08  1.07e-02     3s\n",
      "  22   1.02334865e+06  1.02220880e+06  3.52e+01 5.22e-09  6.97e-03     3s\n",
      "  23   1.02305014e+06  1.02241330e+06  1.52e+01 1.57e-09  3.91e-03     3s\n",
      "  24   1.02291735e+06  1.02265774e+06  6.29e+00 4.72e-10  1.59e-03     4s\n",
      "  25   1.02287113e+06  1.02274261e+06  3.30e+00 2.81e-13  7.84e-04     4s\n",
      "  26   1.02284247e+06  1.02278164e+06  1.46e+00 2.93e-13  3.70e-04     4s\n",
      "  27   1.02283893e+06  1.02279137e+06  1.24e+00 2.51e-13  2.89e-04     4s\n",
      "  28   1.02282626e+06  1.02280875e+06  4.52e-01 6.53e-13  1.06e-04     4s\n",
      "  29   1.02282001e+06  1.02281727e+06  5.30e-02 3.41e-11  1.64e-05     4s\n",
      "  30   1.02281904e+06  1.02281885e+06  2.62e-03 9.59e-12  1.09e-06     4s\n",
      "  31   1.02281899e+06  1.02281892e+06  6.93e-04 4.38e-12  4.27e-07     4s\n",
      "  32   1.02281898e+06  1.02281897e+06  5.73e-06 2.14e-12  2.25e-08     4s\n",
      "  33   1.02281898e+06  1.02281898e+06  7.13e-10 3.62e-12  2.25e-11     5s\n",
      "\n",
      "Barrier solved model in 33 iterations and 4.59 seconds\n",
      "Optimal objective 1.02281898e+06\n",
      "\n",
      "Crossover log...\n",
      "\n",
      "       0 DPushes remaining with DInf 1.1212414e-12                 5s\n",
      "\n",
      "   18359 PPushes remaining with PInf 0.0000000e+00                 5s\n",
      "   11800 PPushes remaining with PInf 0.0000000e+00                 5s\n",
      "       0 PPushes remaining with PInf 0.0000000e+00                 8s\n",
      "\n",
      "  Push phase complete: Pinf 0.0000000e+00, Dinf 2.6229190e-12      8s\n",
      "\n",
      "Iteration    Objective       Primal Inf.    Dual Inf.      Time\n",
      "   22191    1.0228190e+06   0.000000e+00   0.000000e+00      8s\n",
      "\n",
      "Solved with barrier\n",
      "Solved in 22191 iterations and 7.72 seconds\n",
      "Optimal objective  1.022818976e+06\n",
      "\n",
      "Status: ok\n",
      "Return code: 0\n",
      "Message: Model was solved to optimality (subject to tolerances), and an optimal solution is available.\n",
      "Termination condition: optimal\n",
      "Termination message: Model was solved to optimality (subject to tolerances), and an optimal solution is available.\n",
      "Wall time: 7.73749923706\n",
      "Error rc: 0\n",
      "Time: 9.437879085540771\n",
      "\n",
      "\n",
      "Name: x105135_copy\n",
      "Lower bound: 1022818.9763\n",
      "Upper bound: 1022818.9763\n",
      "Number of objectives: 1\n",
      "Number of constraints: 148930\n",
      "Number of variables: 105135\n",
      "Number of binary variables: 0\n",
      "Number of integer variables: 0\n",
      "Number of continuous variables: 105135\n",
      "Number of nonzeros: 380085\n",
      "Sense: minimize\n",
      "\n",
      "Solve time: 21.66812229156494 sec.\n",
      "\n",
      "Processing optimization output...\n",
      "for SourceSinkModel ...(2.4336sec)\n",
      "for ConversionModel ...(1.2324sec)\n",
      "for StorageModel ...  (3.6192sec)\n",
      "\t\t(7.2851 sec)\n",
      "\n"
     ]
    }
   ],
   "source": [
    "esM.optimize(timeSeriesAggregation=False, solver='gurobi')"
   ]
  },
  {
   "cell_type": "markdown",
   "metadata": {},
   "source": [
    "# 7. Selected results output"
   ]
  },
  {
   "cell_type": "markdown",
   "metadata": {},
   "source": [
    "Show optimization summary"
   ]
  },
  {
   "cell_type": "markdown",
   "metadata": {},
   "source": [
    "### Sources and Sinks"
   ]
  },
  {
   "cell_type": "code",
   "execution_count": 13,
   "metadata": {},
   "outputs": [
    {
     "data": {
      "text/html": [
       "<div>\n",
       "<style scoped>\n",
       "    .dataframe tbody tr th:only-of-type {\n",
       "        vertical-align: middle;\n",
       "    }\n",
       "\n",
       "    .dataframe tbody tr th {\n",
       "        vertical-align: top;\n",
       "    }\n",
       "\n",
       "    .dataframe thead th {\n",
       "        text-align: right;\n",
       "    }\n",
       "</style>\n",
       "<table border=\"1\" class=\"dataframe\">\n",
       "  <thead>\n",
       "    <tr style=\"text-align: right;\">\n",
       "      <th></th>\n",
       "      <th></th>\n",
       "      <th></th>\n",
       "      <th>Island</th>\n",
       "    </tr>\n",
       "    <tr>\n",
       "      <th>Component</th>\n",
       "      <th>Property</th>\n",
       "      <th>Unit</th>\n",
       "      <th></th>\n",
       "    </tr>\n",
       "  </thead>\n",
       "  <tbody>\n",
       "    <tr>\n",
       "      <th rowspan=\"3\" valign=\"top\">Backup Plant</th>\n",
       "      <th>TAC</th>\n",
       "      <th>[1 Euro/a]</th>\n",
       "      <td>123990</td>\n",
       "    </tr>\n",
       "    <tr>\n",
       "      <th>commodCosts</th>\n",
       "      <th>[1 Euro/a]</th>\n",
       "      <td>123990</td>\n",
       "    </tr>\n",
       "    <tr>\n",
       "      <th>operation</th>\n",
       "      <th>[kW$_{el}$*h/a]</th>\n",
       "      <td>619952</td>\n",
       "    </tr>\n",
       "    <tr>\n",
       "      <th>Electricity Demand</th>\n",
       "      <th>operation</th>\n",
       "      <th>[kW$_{el}$*h/a]</th>\n",
       "      <td>6.19952e+06</td>\n",
       "    </tr>\n",
       "    <tr>\n",
       "      <th rowspan=\"6\" valign=\"top\">PV</th>\n",
       "      <th>TAC</th>\n",
       "      <th>[1 Euro/a]</th>\n",
       "      <td>293184</td>\n",
       "    </tr>\n",
       "    <tr>\n",
       "      <th>capacity</th>\n",
       "      <th>[kW$_{el}$]</th>\n",
       "      <td>3276.46</td>\n",
       "    </tr>\n",
       "    <tr>\n",
       "      <th>capexCap</th>\n",
       "      <th>[1 Euro/a]</th>\n",
       "      <td>266972</td>\n",
       "    </tr>\n",
       "    <tr>\n",
       "      <th>invest</th>\n",
       "      <th>[1 Euro]</th>\n",
       "      <td>2.62117e+06</td>\n",
       "    </tr>\n",
       "    <tr>\n",
       "      <th>operation</th>\n",
       "      <th>[kW$_{el}$*h/a]</th>\n",
       "      <td>3.05404e+06</td>\n",
       "    </tr>\n",
       "    <tr>\n",
       "      <th>opexCap</th>\n",
       "      <th>[1 Euro/a]</th>\n",
       "      <td>26211.7</td>\n",
       "    </tr>\n",
       "    <tr>\n",
       "      <th rowspan=\"6\" valign=\"top\">Wind</th>\n",
       "      <th>TAC</th>\n",
       "      <th>[1 Euro/a]</th>\n",
       "      <td>322276</td>\n",
       "    </tr>\n",
       "    <tr>\n",
       "      <th>capacity</th>\n",
       "      <th>[kW$_{el}$]</th>\n",
       "      <td>2644.81</td>\n",
       "    </tr>\n",
       "    <tr>\n",
       "      <th>capexCap</th>\n",
       "      <th>[1 Euro/a]</th>\n",
       "      <td>269380</td>\n",
       "    </tr>\n",
       "    <tr>\n",
       "      <th>invest</th>\n",
       "      <th>[1 Euro]</th>\n",
       "      <td>2.64481e+06</td>\n",
       "    </tr>\n",
       "    <tr>\n",
       "      <th>operation</th>\n",
       "      <th>[kW$_{el}$*h/a]</th>\n",
       "      <td>3.94681e+06</td>\n",
       "    </tr>\n",
       "    <tr>\n",
       "      <th>opexCap</th>\n",
       "      <th>[1 Euro/a]</th>\n",
       "      <td>52896.2</td>\n",
       "    </tr>\n",
       "  </tbody>\n",
       "</table>\n",
       "</div>"
      ],
      "text/plain": [
       "                                                     Island\n",
       "Component          Property    Unit                        \n",
       "Backup Plant       TAC         [1 Euro/a]            123990\n",
       "                   commodCosts [1 Euro/a]            123990\n",
       "                   operation   [kW$_{el}$*h/a]       619952\n",
       "Electricity Demand operation   [kW$_{el}$*h/a]  6.19952e+06\n",
       "PV                 TAC         [1 Euro/a]            293184\n",
       "                   capacity    [kW$_{el}$]          3276.46\n",
       "                   capexCap    [1 Euro/a]            266972\n",
       "                   invest      [1 Euro]         2.62117e+06\n",
       "                   operation   [kW$_{el}$*h/a]  3.05404e+06\n",
       "                   opexCap     [1 Euro/a]           26211.7\n",
       "Wind               TAC         [1 Euro/a]            322276\n",
       "                   capacity    [kW$_{el}$]          2644.81\n",
       "                   capexCap    [1 Euro/a]            269380\n",
       "                   invest      [1 Euro]         2.64481e+06\n",
       "                   operation   [kW$_{el}$*h/a]  3.94681e+06\n",
       "                   opexCap     [1 Euro/a]           52896.2"
      ]
     },
     "execution_count": 13,
     "metadata": {},
     "output_type": "execute_result"
    }
   ],
   "source": [
    "esM.getOptimizationSummary(\"SourceSinkModel\", outputLevel=2)"
   ]
  },
  {
   "cell_type": "markdown",
   "metadata": {},
   "source": [
    "### Conversion Units"
   ]
  },
  {
   "cell_type": "code",
   "execution_count": 14,
   "metadata": {},
   "outputs": [
    {
     "data": {
      "text/html": [
       "<div>\n",
       "<style scoped>\n",
       "    .dataframe tbody tr th:only-of-type {\n",
       "        vertical-align: middle;\n",
       "    }\n",
       "\n",
       "    .dataframe tbody tr th {\n",
       "        vertical-align: top;\n",
       "    }\n",
       "\n",
       "    .dataframe thead th {\n",
       "        text-align: right;\n",
       "    }\n",
       "</style>\n",
       "<table border=\"1\" class=\"dataframe\">\n",
       "  <thead>\n",
       "    <tr style=\"text-align: right;\">\n",
       "      <th></th>\n",
       "      <th></th>\n",
       "      <th></th>\n",
       "      <th>Island</th>\n",
       "    </tr>\n",
       "    <tr>\n",
       "      <th>Component</th>\n",
       "      <th>Property</th>\n",
       "      <th>Unit</th>\n",
       "      <th></th>\n",
       "    </tr>\n",
       "  </thead>\n",
       "  <tbody>\n",
       "    <tr>\n",
       "      <th rowspan=\"6\" valign=\"top\">Electroylzers</th>\n",
       "      <th>TAC</th>\n",
       "      <th>[1 Euro/a]</th>\n",
       "      <td>51036.9</td>\n",
       "    </tr>\n",
       "    <tr>\n",
       "      <th>capacity</th>\n",
       "      <th>[kW$_{el}$]</th>\n",
       "      <td>695.186</td>\n",
       "    </tr>\n",
       "    <tr>\n",
       "      <th>capexCap</th>\n",
       "      <th>[1 Euro/a]</th>\n",
       "      <td>40609.1</td>\n",
       "    </tr>\n",
       "    <tr>\n",
       "      <th>invest</th>\n",
       "      <th>[1 Euro]</th>\n",
       "      <td>347593</td>\n",
       "    </tr>\n",
       "    <tr>\n",
       "      <th>operation</th>\n",
       "      <th>[kW$_{el}$*h/a]</th>\n",
       "      <td>1.90931e+06</td>\n",
       "    </tr>\n",
       "    <tr>\n",
       "      <th>opexCap</th>\n",
       "      <th>[1 Euro/a]</th>\n",
       "      <td>10427.8</td>\n",
       "    </tr>\n",
       "    <tr>\n",
       "      <th rowspan=\"6\" valign=\"top\">Fuel Cells</th>\n",
       "      <th>TAC</th>\n",
       "      <th>[1 Euro/a]</th>\n",
       "      <td>39076.9</td>\n",
       "    </tr>\n",
       "    <tr>\n",
       "      <th>capacity</th>\n",
       "      <th>[kW$_{el}$]</th>\n",
       "      <td>241.943</td>\n",
       "    </tr>\n",
       "    <tr>\n",
       "      <th>capexCap</th>\n",
       "      <th>[1 Euro/a]</th>\n",
       "      <td>31092.7</td>\n",
       "    </tr>\n",
       "    <tr>\n",
       "      <th>invest</th>\n",
       "      <th>[1 Euro]</th>\n",
       "      <td>266138</td>\n",
       "    </tr>\n",
       "    <tr>\n",
       "      <th>operation</th>\n",
       "      <th>[kW$_{el}$*h/a]</th>\n",
       "      <td>585777</td>\n",
       "    </tr>\n",
       "    <tr>\n",
       "      <th>opexCap</th>\n",
       "      <th>[1 Euro/a]</th>\n",
       "      <td>7984.13</td>\n",
       "    </tr>\n",
       "  </tbody>\n",
       "</table>\n",
       "</div>"
      ],
      "text/plain": [
       "                                              Island\n",
       "Component     Property  Unit                        \n",
       "Electroylzers TAC       [1 Euro/a]           51036.9\n",
       "              capacity  [kW$_{el}$]          695.186\n",
       "              capexCap  [1 Euro/a]           40609.1\n",
       "              invest    [1 Euro]              347593\n",
       "              operation [kW$_{el}$*h/a]  1.90931e+06\n",
       "              opexCap   [1 Euro/a]           10427.8\n",
       "Fuel Cells    TAC       [1 Euro/a]           39076.9\n",
       "              capacity  [kW$_{el}$]          241.943\n",
       "              capexCap  [1 Euro/a]           31092.7\n",
       "              invest    [1 Euro]              266138\n",
       "              operation [kW$_{el}$*h/a]       585777\n",
       "              opexCap   [1 Euro/a]           7984.13"
      ]
     },
     "execution_count": 14,
     "metadata": {},
     "output_type": "execute_result"
    }
   ],
   "source": [
    "esM.getOptimizationSummary(\"ConversionModel\", outputLevel=2)"
   ]
  },
  {
   "cell_type": "markdown",
   "metadata": {},
   "source": [
    "### Storages"
   ]
  },
  {
   "cell_type": "code",
   "execution_count": 15,
   "metadata": {},
   "outputs": [
    {
     "data": {
      "text/html": [
       "<div>\n",
       "<style scoped>\n",
       "    .dataframe tbody tr th:only-of-type {\n",
       "        vertical-align: middle;\n",
       "    }\n",
       "\n",
       "    .dataframe tbody tr th {\n",
       "        vertical-align: top;\n",
       "    }\n",
       "\n",
       "    .dataframe thead th {\n",
       "        text-align: right;\n",
       "    }\n",
       "</style>\n",
       "<table border=\"1\" class=\"dataframe\">\n",
       "  <thead>\n",
       "    <tr style=\"text-align: right;\">\n",
       "      <th></th>\n",
       "      <th></th>\n",
       "      <th></th>\n",
       "      <th>Island</th>\n",
       "    </tr>\n",
       "    <tr>\n",
       "      <th>Component</th>\n",
       "      <th>Property</th>\n",
       "      <th>Unit</th>\n",
       "      <th></th>\n",
       "    </tr>\n",
       "  </thead>\n",
       "  <tbody>\n",
       "    <tr>\n",
       "      <th rowspan=\"7\" valign=\"top\">Battery</th>\n",
       "      <th>TAC</th>\n",
       "      <th>[1 Euro/a]</th>\n",
       "      <td>137293</td>\n",
       "    </tr>\n",
       "    <tr>\n",
       "      <th>capacity</th>\n",
       "      <th>[kW$_{el}$*h]</th>\n",
       "      <td>3608.34</td>\n",
       "    </tr>\n",
       "    <tr>\n",
       "      <th>capexCap</th>\n",
       "      <th>[1 Euro/a]</th>\n",
       "      <td>126468</td>\n",
       "    </tr>\n",
       "    <tr>\n",
       "      <th>invest</th>\n",
       "      <th>[1 Euro]</th>\n",
       "      <td>1.0825e+06</td>\n",
       "    </tr>\n",
       "    <tr>\n",
       "      <th>operationCharge</th>\n",
       "      <th>[kW$_{el}$*h/a]</th>\n",
       "      <td>1.18202e+06</td>\n",
       "    </tr>\n",
       "    <tr>\n",
       "      <th>operationDischarge</th>\n",
       "      <th>[kW$_{el}$*h/a]</th>\n",
       "      <td>1.08427e+06</td>\n",
       "    </tr>\n",
       "    <tr>\n",
       "      <th>opexCap</th>\n",
       "      <th>[1 Euro/a]</th>\n",
       "      <td>10825</td>\n",
       "    </tr>\n",
       "    <tr>\n",
       "      <th rowspan=\"6\" valign=\"top\">Hydrogen Vessel</th>\n",
       "      <th>TAC</th>\n",
       "      <th>[1 Euro/a]</th>\n",
       "      <td>55962</td>\n",
       "    </tr>\n",
       "    <tr>\n",
       "      <th>capacity</th>\n",
       "      <th>[kW$_{H_{2}}$*h]</th>\n",
       "      <td>39825.5</td>\n",
       "    </tr>\n",
       "    <tr>\n",
       "      <th>capexCap</th>\n",
       "      <th>[1 Euro/a]</th>\n",
       "      <td>55962</td>\n",
       "    </tr>\n",
       "    <tr>\n",
       "      <th>invest</th>\n",
       "      <th>[1 Euro]</th>\n",
       "      <td>597382</td>\n",
       "    </tr>\n",
       "    <tr>\n",
       "      <th>operationCharge</th>\n",
       "      <th>[kW$_{H_{2}}$*h/a]</th>\n",
       "      <td>1.6496e+06</td>\n",
       "    </tr>\n",
       "    <tr>\n",
       "      <th>operationDischarge</th>\n",
       "      <th>[kW$_{H_{2}}$*h/a]</th>\n",
       "      <td>1.48464e+06</td>\n",
       "    </tr>\n",
       "  </tbody>\n",
       "</table>\n",
       "</div>"
      ],
      "text/plain": [
       "                                                            Island\n",
       "Component       Property           Unit                           \n",
       "Battery         TAC                [1 Euro/a]               137293\n",
       "                capacity           [kW$_{el}$*h]           3608.34\n",
       "                capexCap           [1 Euro/a]               126468\n",
       "                invest             [1 Euro]             1.0825e+06\n",
       "                operationCharge    [kW$_{el}$*h/a]     1.18202e+06\n",
       "                operationDischarge [kW$_{el}$*h/a]     1.08427e+06\n",
       "                opexCap            [1 Euro/a]                10825\n",
       "Hydrogen Vessel TAC                [1 Euro/a]                55962\n",
       "                capacity           [kW$_{H_{2}}$*h]        39825.5\n",
       "                capexCap           [1 Euro/a]                55962\n",
       "                invest             [1 Euro]                 597382\n",
       "                operationCharge    [kW$_{H_{2}}$*h/a]   1.6496e+06\n",
       "                operationDischarge [kW$_{H_{2}}$*h/a]  1.48464e+06"
      ]
     },
     "execution_count": 15,
     "metadata": {},
     "output_type": "execute_result"
    }
   ],
   "source": [
    "esM.getOptimizationSummary(\"StorageModel\", outputLevel=2)"
   ]
  },
  {
   "cell_type": "code",
   "execution_count": 19,
   "metadata": {
    "scrolled": true
   },
   "outputs": [
    {
     "data": {
      "image/png": "[encoded data removed]",
      "text/plain": [
       "<Figure size 864x288 with 2 Axes>"
      ]
     },
     "metadata": {},
     "output_type": "display_data"
    }
   ],
   "source": [
    "fig, ax = fn.plotOperationColorMap(esM, 'Battery', 'Island',\n",
    "                                  variableName='stateOfChargeOperationVariablesOptimum')"
   ]
  },
  {
   "cell_type": "code",
   "execution_count": 20,
   "metadata": {},
   "outputs": [
    {
     "data": {
      "image/png": "[encoded data removed]",
      "text/plain": [
       "<Figure size 864x288 with 2 Axes>"
      ]
     },
     "metadata": {},
     "output_type": "display_data"
    }
   ],
   "source": [
    "fig, ax = fn.plotOperationColorMap(esM, 'Hydrogen Vessel', 'Island',\n",
    "                                  variableName='stateOfChargeOperationVariablesOptimum')"
   ]
  },
  {
   "cell_type": "code",
   "execution_count": null,
   "metadata": {},
   "outputs": [],
   "source": []
  }
 ],
 "metadata": {
  "kernelspec": {
   "display_name": "Python 3",
   "language": "python",
   "name": "python3"
  },
  "language_info": {
   "codemirror_mode": {
    "name": "ipython",
    "version": 3
   },
   "file_extension": ".py",
   "mimetype": "text/x-python",
   "name": "python",
   "nbconvert_exporter": "python",
   "pygments_lexer": "ipython3",
   "version": "3.6.5"
  }
 },
 "nbformat": 4,
 "nbformat_minor": 2
}
